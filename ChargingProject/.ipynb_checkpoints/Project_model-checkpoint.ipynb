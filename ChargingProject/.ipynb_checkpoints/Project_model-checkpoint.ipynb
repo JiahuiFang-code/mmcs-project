{
 "cells": [
  {
   "cell_type": "markdown",
   "id": "d129331a",
   "metadata": {},
   "source": [
    "# Charging Model"
   ]
  },
  {
   "cell_type": "code",
   "execution_count": 1,
   "id": "9628475d",
   "metadata": {},
   "outputs": [],
   "source": [
    "# 导入模块\n",
    "import xpress as xp\n",
    "import numpy as np\n",
    "import pandas as pd"
   ]
  },
  {
   "cell_type": "code",
   "execution_count": 2,
   "id": "8163a358",
   "metadata": {},
   "outputs": [],
   "source": [
    "# Create a problem called myproblem\n",
    "\n",
    "prob = xp.problem(name='charging')"
   ]
  },
  {
   "cell_type": "code",
   "execution_count": 3,
   "id": "f75727fd",
   "metadata": {},
   "outputs": [],
   "source": [
    "# Set index\n",
    "number_of_types = 3 # i: 1..3\n",
    "types = range(number_of_types)\n",
    "\n",
    "number_of_years = 4 # Time t: 1..4 0..4\n",
    "years = range(number_of_years)\n",
    "number_of_years2 = number_of_years + 1\n",
    "number_of_grids = 434 # grid g: 1..434\n",
    "grids = range(number_of_grids)\n"
   ]
  },
  {
   "cell_type": "code",
   "execution_count": 4,
   "id": "85ae882d",
   "metadata": {},
   "outputs": [],
   "source": [
    "# Define our decision variable as a numpy array\n",
    "# 设置变量\n",
    "x1 = np.array([xp.var( name='x1_{0}_{1}_{2}'.format(i+1,g+1,t+1),vartype = xp.integer)\n",
    "                    for i in types for g in grids for t in years], dtype=xp.npvar).reshape(number_of_types,number_of_grids,number_of_years)\n",
    "x2 = np.array([xp.var( name='x2_{0}_{1}_{2}'.format(i+1,g+1,t+1),vartype = xp.integer)\n",
    "                    for i in types for g in grids for t in years], dtype=xp.npvar).reshape(number_of_types,number_of_grids,number_of_years)\n",
    "x = np.array([xp.var( name='x_{0}_{1}_{2}'.format(i+1,g+1,t),vartype = xp.integer)\n",
    "                    for i in types for g in grids for t in range(number_of_years2)], dtype=xp.npvar).reshape(number_of_types,number_of_grids,number_of_years2)\n",
    "# x = x1 + x2\n",
    "z = np.array([xp.var( name='z_{0}_{1}'.format(g+1,t+1),vartype = xp.binary)\n",
    "                    for g in grids for t in years], dtype=xp.npvar).reshape(number_of_grids,number_of_years)\n",
    "\n",
    "x2 = np.array([xp.var( name='x2_{0}_{1}_{2}'.format(i+1,g+1,t+1),vartype = xp.integer)\n",
    "                    for i in types for g in grids for t in years], dtype=xp.npvar).reshape(number_of_types,number_of_grids,number_of_years)\n",
    "\n",
    "y = np.array([xp.var( name='y_{0}_{1}'.format(g+1,t+1),vartype = xp.integer)\n",
    "                    for g in grids for t in years], dtype=xp.npvar).reshape(number_of_grids,number_of_years)\n",
    "\n",
    "prob.addVariable(x1,x2,x,z)"
   ]
  },
  {
   "cell_type": "code",
   "execution_count": 5,
   "id": "60056c37",
   "metadata": {},
   "outputs": [],
   "source": [
    "# read data from files\n",
    "pot_char_poi = pd.read_excel('Project_data/Potential_charging_points.xlsx')\n",
    "intere_poi = pd.read_excel('Project_data/Interest _points.xlsx')\n",
    "demand = pd.read_excel('Project_data/Demand_data.xlsx')\n",
    "char_poi =  pd.read_excel('Project_data/Charging_points.xlsx')\n"
   ]
  },
  {
   "cell_type": "code",
   "execution_count": 6,
   "id": "91b2183d",
   "metadata": {},
   "outputs": [],
   "source": [
    "#  Coefficient\n",
    "# 设置参数\n",
    "c = np.array(types) # building cost for charging point of type i\n",
    "c = [1,1,1] # 可以修改\n",
    "\n",
    "r = np.array(types) # the reduced building cost for charging point of type i\n",
    "r = [0.8,0.8,0.8] # 可以修改\n",
    "\n",
    "L = np.array(types) # the lower bound of proportion for type i charging point\n",
    "L = [0.3,0.3,0.3]\n",
    "\n",
    "Mit = np.array(types) # the higher bound of proportion for type i charging point\n",
    "Mit = [0.9,0.9,0.9]\n",
    "\n",
    "U = np.array(types) # the Upper bound of proportion for type i charging point ????\n",
    "U = [0.6,0.6,0.6]\n",
    "\n",
    "B = np.array(grids) # 每个grid 只能放这么多个charger，虽然我不是很理解,不应该每个location限制charger，每个grid限制的chrger等于location*这个数吗。。\n",
    "for i in B:\n",
    "    i = 10 # 暂定\n",
    "\n",
    "T = 10 # the maximal number of station point in the centre of city : 可以自己定\n",
    "\n",
    "N = 10 # lower bound of interest point in the neighbourhood : 可以自己定\n",
    "\n",
    "TS = 0.9 # satisfaction proportion of for the total demand : 可以自己定\n",
    "\n",
    "Mg = 0.9 # satisfaction proportion of for the demand in gird g : 可以自己定\n",
    "\n",
    "Dgt = np.array((demand['Demand_0'],demand['Demand_1'],demand['Demand_2'],demand['Demand_3']))\n",
    "# demand in region grid g in year t\n",
    "\n",
    "Pi1 = np.array(years) # the minimum demand type i can provide per year\n",
    "Pi1 = [2000,4000,30000]\n",
    "Pi = np.array(years) # the maximum demand type i can provide per year # 这个后面好像没用到..\n",
    "Pi = [3500,5200,55000]"
   ]
  },
  {
   "cell_type": "code",
   "execution_count": 7,
   "id": "f6340446",
   "metadata": {},
   "outputs": [],
   "source": [
    "# 得到grid对应的potential locations\n",
    "# Pg: the number of potential locations in the grid square\n",
    "pg = (pot_char_poi['grid number'].value_counts()).sort_index()\n",
    "Pg = np.zeros(number_of_grids) \n",
    "for i in pg.index:\n",
    "    Pg[i-1] = pg[i]"
   ]
  },
  {
   "cell_type": "code",
   "execution_count": 8,
   "id": "d40b40fa",
   "metadata": {},
   "outputs": [],
   "source": [
    "# 把第一年前已经建好charger的加入变量中\n",
    "# number of charging point of type i in potential location j which has been established in year 1\n",
    "trans_type = []\n",
    "for i in char_poi['Type']:\n",
    "    if i == 'Slow':\n",
    "        trans_type.append(3)\n",
    "    elif i == 'Fast':\n",
    "        trans_type.append(3)\n",
    "    elif i == 'Rapid':\n",
    "        trans_type.append(3)\n",
    "exit_charger = pd.DataFrame({'Type':trans_type,'Grid':char_poi['grid number']})\n",
    "\n",
    "prob.addConstraint(x[i,g,0] == len(exit_charger[(exit_charger['Type']==i+1)&(exit_charger['Grid']==g+1)]) \n",
    "                   for i in types for g in grids)"
   ]
  },
  {
   "cell_type": "code",
   "execution_count": 9,
   "id": "7c50aadb",
   "metadata": {},
   "outputs": [
    {
     "ename": "ModelError",
     "evalue": "Variable in linear part of constraint has not been added to problem yet",
     "output_type": "error",
     "traceback": [
      "\u001b[0;31m---------------------------------------------------------------------------\u001b[0m",
      "\u001b[0;31mModelError\u001b[0m                                Traceback (most recent call last)",
      "Input \u001b[0;32mIn [9]\u001b[0m, in \u001b[0;36m<cell line: 5>\u001b[0;34m()\u001b[0m\n\u001b[1;32m      4\u001b[0m \u001b[38;5;66;03m# y和x的关系 y(g,t) = 过去每一年的x......\u001b[39;00m\n\u001b[1;32m      5\u001b[0m \u001b[38;5;28;01mfor\u001b[39;00m g \u001b[38;5;129;01min\u001b[39;00m grids:\n\u001b[0;32m----> 6\u001b[0m     \u001b[43mprob\u001b[49m\u001b[38;5;241;43m.\u001b[39;49m\u001b[43maddConstraint\u001b[49m\u001b[43m(\u001b[49m\u001b[43my\u001b[49m\u001b[43m[\u001b[49m\u001b[43mg\u001b[49m\u001b[43m,\u001b[49m\u001b[38;5;241;43m0\u001b[39;49m\u001b[43m]\u001b[49m\u001b[43m \u001b[49m\u001b[38;5;241;43m==\u001b[39;49m\u001b[43m \u001b[49m\u001b[43mxp\u001b[49m\u001b[38;5;241;43m.\u001b[39;49m\u001b[43mSum\u001b[49m\u001b[43m(\u001b[49m\u001b[43mx\u001b[49m\u001b[43m[\u001b[49m\u001b[43mi\u001b[49m\u001b[43m,\u001b[49m\u001b[43mg\u001b[49m\u001b[43m,\u001b[49m\u001b[38;5;241;43m0\u001b[39;49m\u001b[43m]\u001b[49m\u001b[43m \u001b[49m\u001b[38;5;28;43;01mfor\u001b[39;49;00m\u001b[43m \u001b[49m\u001b[43mi\u001b[49m\u001b[43m \u001b[49m\u001b[38;5;129;43;01min\u001b[39;49;00m\u001b[43m \u001b[49m\u001b[43mtypes\u001b[49m\u001b[43m)\u001b[49m\u001b[43m \u001b[49m\u001b[38;5;241;43m+\u001b[39;49m\u001b[43m \u001b[49m\u001b[43mxp\u001b[49m\u001b[38;5;241;43m.\u001b[39;49m\u001b[43mSum\u001b[49m\u001b[43m(\u001b[49m\u001b[43mx\u001b[49m\u001b[43m[\u001b[49m\u001b[43mi\u001b[49m\u001b[43m,\u001b[49m\u001b[43mg\u001b[49m\u001b[43m,\u001b[49m\u001b[38;5;241;43m1\u001b[39;49m\u001b[43m]\u001b[49m\u001b[43m \u001b[49m\u001b[38;5;28;43;01mfor\u001b[39;49;00m\u001b[43m \u001b[49m\u001b[43mi\u001b[49m\u001b[43m \u001b[49m\u001b[38;5;129;43;01min\u001b[39;49;00m\u001b[43m \u001b[49m\u001b[43mtypes\u001b[49m\u001b[43m)\u001b[49m\u001b[43m)\u001b[49m\n\u001b[1;32m      7\u001b[0m     prob\u001b[38;5;241m.\u001b[39maddConstraint(y[g,\u001b[38;5;241m1\u001b[39m] \u001b[38;5;241m==\u001b[39m y[g,\u001b[38;5;241m0\u001b[39m] \u001b[38;5;241m+\u001b[39m xp\u001b[38;5;241m.\u001b[39mSum(x[i,g,\u001b[38;5;241m2\u001b[39m] \u001b[38;5;28;01mfor\u001b[39;00m i \u001b[38;5;129;01min\u001b[39;00m types))\n\u001b[1;32m      8\u001b[0m     prob\u001b[38;5;241m.\u001b[39maddConstraint(y[g,\u001b[38;5;241m2\u001b[39m] \u001b[38;5;241m==\u001b[39m y[g,\u001b[38;5;241m1\u001b[39m] \u001b[38;5;241m+\u001b[39m xp\u001b[38;5;241m.\u001b[39mSum(x[i,g,\u001b[38;5;241m3\u001b[39m] \u001b[38;5;28;01mfor\u001b[39;00m i \u001b[38;5;129;01min\u001b[39;00m types))\n",
      "\u001b[0;31mModelError\u001b[0m: Variable in linear part of constraint has not been added to problem yet"
     ]
    }
   ],
   "source": [
    "# 每年新建的 = 未开始使用的location新建charger数量 + 已开始使用的新建charger数量\n",
    "prob.addConstraint(x[i,g,t+1] == x1[i,g,t] + x2[i,g,t] for i in types for g in grids for t in years)\n",
    "\n",
    "# y和x的关系 y(g,t) = 过去每一年的x......\n",
    "for g in grids:\n",
    "    prob.addConstraint(y[g,0] == xp.Sum(x[i,g,0] for i in types) + xp.Sum(x[i,g,1] for i in types))\n",
    "    prob.addConstraint(y[g,1] == y[g,0] + xp.Sum(x[i,g,2] for i in types))\n",
    "    prob.addConstraint(y[g,2] == y[g,1] + xp.Sum(x[i,g,3] for i in types))\n",
    "    prob.addConstraint(y[g,3] == y[g,2] + xp.Sum(x[i,g,4] for i in types))\n",
    "\n",
    "# for g in grids:\n",
    "#     t = 0\n",
    "#     while t <= 3: \n",
    "#         prob.addConstraint(y[g,t] == xp.Sum(x[i,g,t1] for t1 in range(t+2) for i in types))\n",
    "#         t = t + 1"
   ]
  },
  {
   "cell_type": "code",
   "execution_count": 10,
   "id": "f87d86cf",
   "metadata": {},
   "outputs": [],
   "source": [
    "# 大M \n",
    "\n",
    "\n",
    "\n"
   ]
  },
  {
   "cell_type": "code",
   "execution_count": 11,
   "id": "14c4118f",
   "metadata": {},
   "outputs": [],
   "source": [
    "# 每年设施比例(每类充电桩/所有充电桩的比例): 这里我看公式的角标感到十分混乱。。。。\n",
    "for i in types:\n",
    "    for t in years:\n",
    "        prob.addConstraint(L[i]*xp.Sum(x[i1,g,t1] for i1 in types for g in grids for t1 in range(t+2)) <= \n",
    "                          xp.Sum(x[i,g,t1] for g in grids for t1 in range(t+2)))\n",
    "        prob.addConstraint(Mit[i]*xp.Sum(x[i1,g,t1] for i1 in types for g in grids for t1 in range(t+2)) >= \n",
    "                          xp.Sum(x[i,g,t1] for g in grids for t1 in range(t+2)))\n"
   ]
  },
  {
   "cell_type": "code",
   "execution_count": 12,
   "id": "038ab2a9",
   "metadata": {},
   "outputs": [
    {
     "ename": "ModelError",
     "evalue": "Variable in linear term defining constraint has not been added to problem yet",
     "output_type": "error",
     "traceback": [
      "\u001b[0;31m---------------------------------------------------------------------------\u001b[0m",
      "\u001b[0;31mModelError\u001b[0m                                Traceback (most recent call last)",
      "Input \u001b[0;32mIn [12]\u001b[0m, in \u001b[0;36m<cell line: 2>\u001b[0;34m()\u001b[0m\n\u001b[1;32m      2\u001b[0m \u001b[38;5;28;01mfor\u001b[39;00m g \u001b[38;5;129;01min\u001b[39;00m grids:\n\u001b[1;32m      3\u001b[0m     \u001b[38;5;28;01mfor\u001b[39;00m t \u001b[38;5;129;01min\u001b[39;00m years:\n\u001b[0;32m----> 4\u001b[0m         \u001b[43mprob\u001b[49m\u001b[38;5;241;43m.\u001b[39;49m\u001b[43maddConstraint\u001b[49m\u001b[43m(\u001b[49m\u001b[43my\u001b[49m\u001b[43m[\u001b[49m\u001b[43mg\u001b[49m\u001b[43m,\u001b[49m\u001b[43mt\u001b[49m\u001b[43m]\u001b[49m\u001b[43m \u001b[49m\u001b[38;5;241;43m<\u001b[39;49m\u001b[38;5;241;43m=\u001b[39;49m\u001b[43m \u001b[49m\u001b[43mB\u001b[49m\u001b[43m[\u001b[49m\u001b[43mg\u001b[49m\u001b[43m]\u001b[49m\u001b[43m)\u001b[49m\n",
      "\u001b[0;31mModelError\u001b[0m: Variable in linear term defining constraint has not been added to problem yet"
     ]
    }
   ],
   "source": [
    "# potential point location number < Bg # 我改了下，直接用y了\n",
    "for g in grids:\n",
    "    for t in years:\n",
    "        prob.addConstraint(y[g,t] <= B[g])"
   ]
  },
  {
   "cell_type": "code",
   "execution_count": 13,
   "id": "fb9a2d01",
   "metadata": {},
   "outputs": [],
   "source": [
    "# electricity demand 请问G‘怎么定义,我很迷茫，我暂时定义为他的邻居吧。。。。。。。。。。还有为什么突然有了个t‘，我很迷茫\n",
    "# 这里的formulation文件有两个公式，我看着好像是一个意思？代码部分写的是第一个公式\n",
    "neighbors = demand['NEIGHBORS']\n",
    "for g in grids:\n",
    "    neighbor = np.array(neighbors[0].strip('[]').split(','),dtype = 'int')\n",
    "    circle = 0\n",
    "    for t in years:\n",
    "        for i in types:\n",
    "            circle = xp.Sum(xp.Sum(x[i,n,t] for n in neighbor)*Pi1[i])\n",
    "        prob.addConstraint(circle >= 0.8*Dgt[t,g])\n",
    "        "
   ]
  },
  {
   "cell_type": "code",
   "execution_count": 14,
   "id": "84936a11",
   "metadata": {},
   "outputs": [],
   "source": [
    "# interest point\n",
    "\n",
    "\n"
   ]
  },
  {
   "cell_type": "code",
   "execution_count": 15,
   "id": "54366450",
   "metadata": {},
   "outputs": [],
   "source": [
    "# Objective function\n",
    "prob.setObjective(xp.Sum(c[i]*x1[i,g,t] for i in types for g in grids for t in years) \n",
    "                  + xp.Sum(r[i] * x2[i,g,t] for i in types for g in grids for t in years),\n",
    "                 sense = xp.minimize)\n"
   ]
  },
  {
   "cell_type": "code",
   "execution_count": 16,
   "id": "2edc9809",
   "metadata": {},
   "outputs": [],
   "source": [
    "prob.write(\"problem\",\"lp\")"
   ]
  },
  {
   "cell_type": "code",
   "execution_count": 15,
   "id": "bdb95866",
   "metadata": {},
   "outputs": [
    {
     "name": "stdout",
     "output_type": "stream",
     "text": [
      "FICO Xpress v8.13.7, Hyper, solve started 7:47:29, Nov 27, 2022\n",
      "Heap usage: 10MB (peak 10MB, 1906KB system)\n",
      "Minimizing MILP charging using up to 8 threads, with these control settings:\n",
      "OUTPUTLOG = 1\n",
      "Original problem has:\n",
      "      8270 rows        18662 cols       131502 elements     18662 globals\n",
      " \n",
      " \n",
      "The problem is infeasible due to row R6837\n",
      "Presolve finished in 0 seconds\n",
      "Heap usage: 8376KB (peak 17MB, 1906KB system)\n",
      " *** Search completed ***\n",
      "Problem is integer infeasible\n",
      "  Solution time / primaldual integral :         0s/ 100.000000%\n",
      "  Number of solutions found / nodes   :         0 /         0\n"
     ]
    }
   ],
   "source": [
    "prob.solve()"
   ]
  },
  {
   "cell_type": "code",
   "execution_count": null,
   "id": "25a425a0",
   "metadata": {},
   "outputs": [],
   "source": []
  }
 ],
 "metadata": {
  "kernelspec": {
   "display_name": "Python 3 (ipykernel)",
   "language": "python",
   "name": "python3"
  },
  "language_info": {
   "codemirror_mode": {
    "name": "ipython",
    "version": 3
   },
   "file_extension": ".py",
   "mimetype": "text/x-python",
   "name": "python",
   "nbconvert_exporter": "python",
   "pygments_lexer": "ipython3",
   "version": "3.9.13"
  }
 },
 "nbformat": 4,
 "nbformat_minor": 5
}
