{
 "cells": [
  {
   "cell_type": "markdown",
   "id": "d129331a",
   "metadata": {},
   "source": [
    "# Charging Model"
   ]
  },
  {
   "cell_type": "code",
   "execution_count": 1,
   "id": "9628475d",
   "metadata": {},
   "outputs": [],
   "source": [
    "# 导入模块\n",
    "import xpress as xp\n",
    "import numpy as np\n",
    "import pandas as pd"
   ]
  },
  {
   "cell_type": "code",
   "execution_count": 2,
   "id": "8163a358",
   "metadata": {},
   "outputs": [],
   "source": [
    "# Create a problem called myproblem\n",
    "\n",
    "prob = xp.problem(name='charging')"
   ]
  },
  {
   "cell_type": "code",
   "execution_count": 3,
   "id": "f75727fd",
   "metadata": {},
   "outputs": [],
   "source": [
    "# Set index\n",
    "number_of_types = 3 # i: 1..3\n",
    "types = range(number_of_types)\n",
    "\n",
    "number_of_years = 5 # Time t: 1..4 0..4\n",
    "years = range(number_of_years)\n",
    "number_of_years2 = number_of_years \n",
    "number_of_grids = 434 # grid g: 1..434\n",
    "grids = range(number_of_grids)\n"
   ]
  },
  {
   "cell_type": "code",
   "execution_count": 4,
   "id": "85ae882d",
   "metadata": {},
   "outputs": [],
   "source": [
    "# Define our decision variable as a numpy array\n",
    "# 设置变量\n",
    "\n",
    "x = np.array([xp.var( name='x_{0}_{1}_{2}'.format(i+1,g+1,t),vartype = xp.integer)\n",
    "                    for i in types for g in grids for t in years], dtype=xp.npvar).reshape(number_of_types,number_of_grids,number_of_years2)\n",
    "# x = x1 + x2\n",
    "\n",
    "y = np.array([xp.var( name='y_{0}_{1}'.format(g+1,t),vartype = xp.integer)\n",
    "                    for g in grids for t in years], dtype=xp.npvar).reshape(number_of_grids,number_of_years)\n",
    "\n",
    "prob.addVariable(x,y)"
   ]
  },
  {
   "cell_type": "code",
   "execution_count": 5,
   "id": "60056c37",
   "metadata": {},
   "outputs": [],
   "source": [
    "# read data from files\n",
    "pot_char_poi = pd.read_excel('Project_data/Potential_charging_points.xlsx')\n",
    "intere_poi = pd.read_excel('Project_data/Interest _points.xlsx')\n",
    "demand = pd.read_excel('Project_data/Demand_data.xlsx')\n",
    "char_poi =  pd.read_excel('Project_data/Charging_points.xlsx')\n"
   ]
  },
  {
   "cell_type": "code",
   "execution_count": 6,
   "id": "91b2183d",
   "metadata": {},
   "outputs": [],
   "source": [
    "#  Coefficient\n",
    "# 设置参数\n",
    "c = np.array(types) # building cost for charging point of type i\n",
    "c = [1,1,1] # 可以修改\n",
    "\n",
    "r = np.array(types) # the reduced building cost for charging point of type i\n",
    "r = [0.8,0.8,0.8] # 可以修改\n",
    "\n",
    "L = np.array(types) # the lower bound of proportion for type i charging point\n",
    "L = [0.2,0.2,0.2]\n",
    "\n",
    "Mit = np.array(types) # the higher bound of proportion for type i charging point\n",
    "Mit = [0.8,0.8,0.8]\n",
    "\n",
    "U = np.array(types) # the Upper bound of proportion for type i charging point ????\n",
    "U = [0.6,0.6,0.6]\n",
    "\n",
    "B = np.array(grids) # 每个grid 只能放这么多个charger，虽然我不是很理解,不应该每个location限制charger，每个grid限制的chrger等于location*这个数吗。。\n",
    "for i in B:\n",
    "    i = 10 # 暂定\n",
    "\n",
    "T = 10 # the maximal number of station point in the centre of city : 可以自己定\n",
    "\n",
    "N = 10 # lower bound of interest point in the neighbourhood : 可以自己定\n",
    "\n",
    "TS = 0.9 # satisfaction proportion of for the total demand : 可以自己定\n",
    "\n",
    "Mg = 0.9 # satisfaction proportion of for the demand in gird g : 可以自己定\n",
    "\n",
    "# demand in region grid g in year t\n",
    "\n",
    "Pi1 = np.array(years) # the minimum demand type i can provide per year\n",
    "Pi1 = [2000,4000,30000]\n",
    "Pi = np.array(years) # the maximum demand type i can provide per year # 这个后面好像没用到..\n",
    "Pi = [3500,5200,55000]"
   ]
  },
  {
   "cell_type": "code",
   "execution_count": 7,
   "id": "5e768a9e",
   "metadata": {},
   "outputs": [
    {
     "name": "stdout",
     "output_type": "stream",
     "text": [
      "(434, 4)\n"
     ]
    }
   ],
   "source": [
    "Dgt = np.array(demand[['Demand_0','Demand_1','Demand_2','Demand_3']])\n",
    "print(Dgt.shape)"
   ]
  },
  {
   "cell_type": "code",
   "execution_count": 8,
   "id": "f6340446",
   "metadata": {},
   "outputs": [
    {
     "name": "stdout",
     "output_type": "stream",
     "text": [
      "200    18\n",
      "186    15\n",
      "89     13\n",
      "199    13\n",
      "103    11\n",
      "       ..\n",
      "144     1\n",
      "101     1\n",
      "291     1\n",
      "160     1\n",
      "331     1\n",
      "Name: grid number, Length: 98, dtype: int64\n"
     ]
    }
   ],
   "source": [
    "# 得到grid对应的potential locations\n",
    "# Pg: the number of potential locations in the grid square\n",
    "pg = (pot_char_poi['grid number'].value_counts())\n",
    "Pg = np.zeros(number_of_grids) \n",
    "print(pg)\n",
    "for i in pg.index:\n",
    "    Pg[i-1] = pg[i]"
   ]
  },
  {
   "cell_type": "code",
   "execution_count": 9,
   "id": "d40b40fa",
   "metadata": {},
   "outputs": [
    {
     "name": "stdout",
     "output_type": "stream",
     "text": [
      "0     0\n",
      "1     1\n",
      "2     0\n",
      "3     0\n",
      "4     1\n",
      "     ..\n",
      "73    0\n",
      "74    0\n",
      "75    0\n",
      "76    0\n",
      "77    1\n",
      "Name: Type, Length: 78, dtype: int64\n"
     ]
    }
   ],
   "source": [
    "char_poi['Type'].replace('Slow',0,inplace = True)\n",
    "char_poi['Type'].replace('Fast',1,inplace = True)\n",
    "char_poi['Type'].replace('Rapid',2,inplace = True)\n",
    "# print(trans_type)\n",
    "print(char_poi['Type'])\n",
    "\n",
    "for i in types:\n",
    "    for g in grids:\n",
    "        if g+1 in list(char_poi['grid number']):\n",
    "            prob.addConstraint( x[i,g,0] == char_poi[(char_poi.Type == i)&(char_poi['grid number'] == g+1)].shape[0])\n",
    "        else:\n",
    "            prob.addConstraint(x[i,g,0] == 0)\n"
   ]
  },
  {
   "cell_type": "code",
   "execution_count": 10,
   "id": "14c4118f",
   "metadata": {},
   "outputs": [],
   "source": [
    "# 每年设施比例(每类充电桩/所有充电桩的比例): 这里我看公式的角标感到十分混乱。。。。\n",
    "for i in types:\n",
    "    for t in years:\n",
    "        if t>0:\n",
    "            prob.addConstraint(L[i]*xp.Sum(x[i,g,t1] for i in types for g in grids for t1 in years if t1<=t) <= \n",
    "                          xp.Sum(x[i,g,t1] for g in grids for t1 in years if t1 <=t))\n",
    "            prob.addConstraint(Mit[i]*xp.Sum(x[i,g,t1] for i in types for g in grids for t1 in years if t1<=t) >= \n",
    "                          xp.Sum(x[i,g,t1] for g in grids for t1 in years if t1<=t))\n"
   ]
  },
  {
   "cell_type": "code",
   "execution_count": 11,
   "id": "2a62e9e8",
   "metadata": {},
   "outputs": [
    {
     "name": "stdout",
     "output_type": "stream",
     "text": [
      "[214 213 228 227 200 199 215 212 229 226 201 198]\n"
     ]
    }
   ],
   "source": [
    "#中心区域数量限制\n",
    "distance = demand['Distance from Centre'].copy()\n",
    "distance.sort_values(inplace = True)\n",
    "center = distance[distance <= 1000]\n",
    "center_grid = np.array(center.index)\n",
    "print(center_grid)"
   ]
  },
  {
   "cell_type": "code",
   "execution_count": 12,
   "id": "dd1d7554",
   "metadata": {},
   "outputs": [],
   "source": [
    "for t in years:\n",
    "    if t >0:\n",
    "        number_center = 0\n",
    "        for g in center_grid:\n",
    "            number_center += xp.Sum(x[i,g-1,t1] for i in types for t1 in years if t1<= t )\n",
    "        prob.addConstraint(number_center <= 100)\n"
   ]
  },
  {
   "cell_type": "code",
   "execution_count": 13,
   "id": "fd87d11a",
   "metadata": {},
   "outputs": [],
   "source": [
    "B = Pg*3                          #需要求\n"
   ]
  },
  {
   "cell_type": "code",
   "execution_count": 14,
   "id": "038ab2a9",
   "metadata": {},
   "outputs": [],
   "source": [
    "# potential point location number < Bg # 我改了下，直接用y了\n",
    "for g in grids:\n",
    "    for t in years:\n",
    "        prob.addConstraint(y[g,t] <= B[g])"
   ]
  },
  {
   "cell_type": "code",
   "execution_count": 15,
   "id": "fb9a2d01",
   "metadata": {},
   "outputs": [],
   "source": [
    "# electricity demand 请问G‘怎么定义,我很迷茫，我暂时定义为他的邻居吧。。。。。。。。。。还有为什么突然有了个t‘，我很迷茫\n",
    "# 这里的formulation文件有两个公式，我看着好像是一个意思？代码部分写的是第一个公式\n",
    "neighbors = demand['NEIGHBORS']\n",
    "\n",
    "for g in grids:\n",
    "    neighbor = np.array(neighbors[g].strip('[]').split(','),dtype = 'int')\n",
    "    for t in years:\n",
    "        if t>0:\n",
    "            prob.addConstraint(xp.Sum(Pi1[i]*x[i,n-1,t1] for i in types for n in neighbor for t1 in years if t1<=t) >= 0.5*Dgt[g-1,t-1])\n",
    "for t in years:\n",
    "    if t>0:\n",
    "        prob.addConstraint(Pi1[i]*xp.Sum(x[i,g,t] for i in types for g in grids for t1 in years if t1<=t)>= 0.8*xp.Sum(Dgt[g,t-1] for g in grids))\n",
    "        "
   ]
  },
  {
   "cell_type": "code",
   "execution_count": 16,
   "id": "84936a11",
   "metadata": {},
   "outputs": [],
   "source": [
    "IG = intere_poi['grid number'].value_counts()\n",
    "IG2 = []\n",
    "for i in IG.index:\n",
    "    IG2.append(i)\n",
    "for g in IG2:\n",
    "    neighbor = np.array(neighbors[g].strip('[]').split(','),dtype = 'int')\n",
    "    for t in years:\n",
    "        if t>0:\n",
    "            prob.addConstraint(xp.Sum(Pi1[i]*x[i,n-1,t1] for i in types for n in neighbor for t1 in years if t1<=t) >= 0.8*Dgt[g-1,t-1])\n",
    "    \n",
    "\n"
   ]
  },
  {
   "cell_type": "code",
   "execution_count": 17,
   "id": "54366450",
   "metadata": {},
   "outputs": [],
   "source": [
    "# Objective function\n",
    "prob.setObjective(xp.Sum(x[i,g,t] for i in types for g in grids for t in years) \n",
    "                  ,sense = xp.minimize)\n"
   ]
  },
  {
   "cell_type": "code",
   "execution_count": 18,
   "id": "2edc9809",
   "metadata": {},
   "outputs": [],
   "source": [
    "prob.write(\"problem\",\"lp\")"
   ]
  },
  {
   "cell_type": "code",
   "execution_count": 19,
   "id": "bdb95866",
   "metadata": {},
   "outputs": [
    {
     "name": "stdout",
     "output_type": "stream",
     "text": [
      "FICO Xpress v8.13.7, Hyper, solve started 23:58:11, Nov 27, 2022\n",
      "Heap usage: 10MB (peak 10MB, 1699KB system)\n",
      "Minimizing MILP charging using up to 16 threads, with these control settings:\n",
      "OUTPUTLOG = 1\n",
      "Original problem has:\n",
      "      5500 rows         8680 cols       275044 elements      8680 globals\n",
      "Presolved problem has:\n",
      "        91 rows          795 cols        16077 elements       795 globals\n",
      "LP relaxation tightened\n",
      "Presolve finished in 0 seconds\n",
      "Heap usage: 8910KB (peak 24MB, 1699KB system)\n",
      "\n",
      "Coefficient range                    original                 solved        \n",
      "  Coefficients   [min,max] : [ 2.00e-01,  1.50e+05] / [ 1.22e-01,  1.98e+00]\n",
      "  RHS and bounds [min,max] : [ 1.00e+00,  8.36e+05] / [ 1.00e+00,  8.00e+01]\n",
      "  Objective      [min,max] : [ 1.00e+00,  1.00e+00] / [ 1.00e+00,  1.00e+00]\n",
      "Autoscaling applied standard scaling\n",
      "\n",
      "Will try to keep branch and bound tree memory usage below 8.7GB\n",
      " *** Solution found:   101.000000   Time:   0    Heuristic: e ***\n",
      "Starting concurrent solve with dual (1 thread)\n",
      "\n",
      " Concurrent-Solve,   0s\n",
      "            Dual        \n",
      "    objective   sum inf \n",
      " P  100.00000   .0000000\n",
      "------- optimal --------\n",
      "Concurrent statistics:\n",
      "      Dual: 78 simplex iterations, 0.00s\n",
      "Optimal solution found\n",
      " \n",
      "   Its         Obj Value      S   Ninf  Nneg        Sum Inf  Time\n",
      "    78        100.000000      P      0     0        .000000     0\n",
      "Dual solved problem\n",
      "  78 simplex iterations in 0.00 seconds at time 0\n",
      "\n",
      "Final objective                       : 1.000000000000000e+02\n",
      "  Max primal violation      (abs/rel) : 2.220e-16 / 1.992e-16\n",
      "  Max dual violation        (abs/rel) :       0.0 /       0.0\n",
      "  Max complementarity viol. (abs/rel) :       0.0 /       0.0\n",
      "\n",
      "Starting root cutting & heuristics\n",
      " \n",
      " Its Type    BestSoln    BestBound   Sols    Add    Del     Gap     GInf   Time\n",
      "b          100.000000   100.000000      2                  0.00%       0      0\n",
      " *** Search completed ***\n",
      "Uncrunching matrix\n",
      "Final MIP objective                   : 1.000000000000000e+02\n",
      "Final MIP bound                       : 1.000000000000000e+02\n",
      "  Solution time / primaldual integral :         0s/ 56.915060%\n",
      "  Number of solutions found / nodes   :         2 /         1\n",
      "  Max primal violation      (abs/rel) :       0.0 /       0.0\n",
      "  Max integer violation     (abs    ) :       0.0\n"
     ]
    }
   ],
   "source": [
    "prob.solve()"
   ]
  },
  {
   "cell_type": "code",
   "execution_count": 21,
   "id": "25a425a0",
   "metadata": {
    "scrolled": true
   },
   "outputs": [
    {
     "name": "stdout",
     "output_type": "stream",
     "text": [
      "[[[-0. -0. -0. -0. -0.]\n",
      "  [-0. -0. -0. -0. -0.]\n",
      "  [-0. -0. -0. -0. -0.]\n",
      "  ...\n",
      "  [-0. -0. -0. -0. -0.]\n",
      "  [-0. -0. -0. -0. -0.]\n",
      "  [-0. -0. -0. -0. -0.]]\n",
      "\n",
      " [[-0. -0. -0. -0. -0.]\n",
      "  [-0. -0. -0. -0. -0.]\n",
      "  [-0. -0. -0. -0. -0.]\n",
      "  ...\n",
      "  [-0. -0. -0. -0. -0.]\n",
      "  [-0. -0. -0. -0. -0.]\n",
      "  [-0. -0. -0. -0. -0.]]\n",
      "\n",
      " [[-0. -0. -0. -0. -0.]\n",
      "  [-0. -0. -0. -0. -0.]\n",
      "  [-0. -0. -0. -0. -0.]\n",
      "  ...\n",
      "  [-0. -0. -0. -0. -0.]\n",
      "  [-0. -0. -0. -0. -0.]\n",
      "  [-0. -0. -0. -0. -0.]]]\n"
     ]
    }
   ],
   "source": [
    "for i in types:\n",
    "    for j in grids:\n",
    "        for t in years:\n",
    "            "
   ]
  },
  {
   "cell_type": "code",
   "execution_count": null,
   "id": "f920daa4",
   "metadata": {},
   "outputs": [],
   "source": []
  }
 ],
 "metadata": {
  "kernelspec": {
   "display_name": "Python 3 (ipykernel)",
   "language": "python",
   "name": "python3"
  },
  "language_info": {
   "codemirror_mode": {
    "name": "ipython",
    "version": 3
   },
   "file_extension": ".py",
   "mimetype": "text/x-python",
   "name": "python",
   "nbconvert_exporter": "python",
   "pygments_lexer": "ipython3",
   "version": "3.9.13"
  },
  "vscode": {
   "interpreter": {
    "hash": "354fb722266689457ee49b084c2d6d7f431a22ef77b8e76260e58ffc2853e1e8"
   }
  }
 },
 "nbformat": 4,
 "nbformat_minor": 5
}
