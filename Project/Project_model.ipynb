{
 "cells": [
  {
   "cell_type": "markdown",
   "id": "d129331a",
   "metadata": {},
   "source": [
    "# Charging Model"
   ]
  },
  {
   "cell_type": "markdown",
   "id": "74e768ca",
   "metadata": {},
   "source": [
    "## initialize set\n",
    "- import modules\n",
    "- set problems\n",
    "- set idnex\n",
    "- define variables\n",
    "- read data from files\n",
    "- define constants\n"
   ]
  },
  {
   "cell_type": "code",
   "execution_count": 81,
   "id": "9628475d",
   "metadata": {},
   "outputs": [],
   "source": [
    "# import Modules\n",
    "import xpress as xp\n",
    "import numpy as np\n",
    "import pandas as pd\n",
    "# use professional edition xpress package!!!"
   ]
  },
  {
   "cell_type": "code",
   "execution_count": 2,
   "id": "8163a358",
   "metadata": {},
   "outputs": [],
   "source": [
    "# Create a problem called myproblem\n",
    "\n",
    "prob = xp.problem(name='charging')"
   ]
  },
  {
   "cell_type": "code",
   "execution_count": 3,
   "id": "f75727fd",
   "metadata": {},
   "outputs": [],
   "source": [
    "# Set index\n",
    "number_of_types = 3 # i: 1..3\n",
    "types = range(number_of_types)\n",
    "\n",
    "number_of_years = 4 # Time t: 1..4 0..4\n",
    "years = range(number_of_years)\n",
    "number_of_years2 = number_of_years + 1\n",
    "years2 = range(number_of_years2)\n",
    "\n",
    "number_of_grids = 434 # grid g: 1..434\n",
    "grids = range(number_of_grids)\n"
   ]
  },
  {
   "cell_type": "code",
   "execution_count": 4,
   "id": "85ae882d",
   "metadata": {},
   "outputs": [],
   "source": [
    "# Define our decision variable as a numpy array\n",
    "x1 = np.array([xp.var( name='x1_{0}_{1}_{2}'.format(i+1,g+1,t+1),vartype = xp.integer)\n",
    "                    for i in types for g in grids for t in years], dtype=xp.npvar).reshape(number_of_types,number_of_grids,number_of_years)\n",
    "x2 = np.array([xp.var( name='x2_{0}_{1}_{2}'.format(i+1,g+1,t+1),vartype = xp.integer)\n",
    "                    for i in types for g in grids for t in years], dtype=xp.npvar).reshape(number_of_types,number_of_grids,number_of_years)\n",
    "x = np.array([xp.var( name='x_{0}_{1}_{2}'.format(i+1,g+1,t),vartype = xp.integer)\n",
    "                    for i in types for g in grids for t in range(number_of_years2)], dtype=xp.npvar).reshape(number_of_types,number_of_grids,number_of_years2)\n",
    "# x = x1 + x2\n",
    "z = np.array([xp.var( name='z_{0}_{1}'.format(g+1,t+1),vartype = xp.binary)\n",
    "                    for g in grids for t in years], dtype=xp.npvar).reshape(number_of_grids,number_of_years)\n",
    "\n",
    "y = np.array([xp.var( name='y_{0}_{1}'.format(g+1,t+1),vartype = xp.integer)\n",
    "                    for g in grids for t in years], dtype=xp.npvar).reshape(number_of_grids,number_of_years)\n",
    "\n",
    "prob.addVariable(x1,x2,x,y,z)"
   ]
  },
  {
   "cell_type": "code",
   "execution_count": 5,
   "id": "60056c37",
   "metadata": {},
   "outputs": [],
   "source": [
    "# read data from files\n",
    "pot_char_poi = pd.read_excel('Project_data/Potential_charging_points.xlsx')\n",
    "intere_poi = pd.read_excel('Project_data/Interest _points.xlsx')\n",
    "demand = pd.read_excel('Project_data/Demand_data.xlsx')\n",
    "char_poi =  pd.read_excel('Project_data/Charging_points.xlsx')\n"
   ]
  },
  {
   "cell_type": "code",
   "execution_count": 6,
   "id": "91b2183d",
   "metadata": {},
   "outputs": [],
   "source": [
    "#  Constant\n",
    "c = np.array(types) # building cost for charging point of type i\n",
    "c = [1,1,1] #!!!Notice: can define by ourselves\n",
    "\n",
    "# the reduced building cost for charging point of type i\n",
    "r = np.array(types) \n",
    "r = [0.8,0.8,0.8] #!!!Notice: can define by ourselves\n",
    "\n",
    "# the maximal number of location in the grid square g\n",
    "B = np.array(grids) \n",
    "for i in B:\n",
    "    i = 3 #!!!Notice: can define by ourselves\n",
    "    \n",
    "# limitation of charger's number in every location\n",
    "A = 5 #!!!Notice: can define by ourselves\n",
    "\n",
    "# A*B_{g}:the maximal number of charging points in the grid square g, where \n",
    "\n",
    "# the lower bound of proportion for type i charging point\n",
    "L = np.array(types)\n",
    "L = [0.3,0.3,0.3] #!!!Notice: can define by ourselves\n",
    "\n",
    "# the Upper bound of proportion for type i charging point\n",
    "U = np.array(types) \n",
    "U = [0.7,0.7,0.7] #!!!Notice: can define by ourselves\n",
    "\n",
    "# maximal number of station points in the centre of city.\n",
    "SP = 100 #!!!Notice: can define by ourselves\n",
    "\n",
    "# the satisfaction proportion of for the total demand\n",
    "TS = 0.9 #!!!Notice: can define by ourselves\n",
    "\n",
    "# the proportion of the least demand provided by neighbor for 1 grid.\n",
    "MS = 0.8 #!!!Notice: can define by ourselves\n",
    "\n",
    "# define which grids belong to center by \"distance to center\"\n",
    "DCenter = 1000 #!!!Notice: can define by ourselves\n",
    "\n",
    "# demand for the grid g in year t\n",
    "d = np.array((demand['Demand_0'],demand['Demand_1'],demand['Demand_2'],demand['Demand_3']))\n",
    "\n",
    "# the minimum demand type i can provide per year\n",
    "Pi1 = np.array(years) \n",
    "Pi1 = [2000,4000,30000]\n",
    "\n",
    "# the maximum demand type i can provide per year \n",
    "Pi = np.array(years) \n",
    "Pi = [3500,5200,55000]\n",
    "\n",
    "# Pg: the number of potential locations in the grid square\n",
    "pg = (pot_char_poi['grid number'].value_counts())\n",
    "Pg = np.zeros(number_of_grids) \n",
    "for i in pg.index:\n",
    "    Pg[i-1] = pg[i]\n",
    "    "
   ]
  },
  {
   "cell_type": "markdown",
   "id": "5446a6e8",
   "metadata": {},
   "source": [
    "## Add Constraints"
   ]
  },
  {
   "cell_type": "code",
   "execution_count": 7,
   "id": "fec17930",
   "metadata": {},
   "outputs": [],
   "source": [
    "# constrain 0\n",
    "# relastion between variables and exist constants\n",
    "char_poi['Type'].replace('Slow',0,inplace = True)\n",
    "char_poi['Type'].replace('Fast',1,inplace = True)\n",
    "char_poi['Type'].replace('Rapid',2,inplace = True)\n",
    "exist_charger = pd.DataFrame({'Type':char_poi['Type'],'Grid':char_poi['grid number']})\n",
    "\n",
    "\n",
    "for i in types:\n",
    "    for g in grids:\n",
    "        prob.addConstraint( x[i,g,0] == ((exist_charger.Type == i) & (exist_charger.Grid ==g)).sum())\n"
   ]
  },
  {
   "cell_type": "code",
   "execution_count": 8,
   "id": "f87d86cf",
   "metadata": {},
   "outputs": [],
   "source": [
    "# constrain 1 \n",
    "# the number of chargers cannot be more than limitation in t years in g grids\n",
    "\n",
    "prob.addConstraint(y[g,t] <= A*B[g] for g in grids for t in years)"
   ]
  },
  {
   "cell_type": "code",
   "execution_count": 9,
   "id": "646b2aae",
   "metadata": {},
   "outputs": [],
   "source": [
    "# constrian 2\n",
    "# the limitation of charger number in city center\n",
    "distance = demand['Distance from Centre'].copy()\n",
    "distance.sort_values(inplace = True)\n",
    "center = distance[distance <= DCenter]\n",
    "center_grid = np.array(center.index)\n",
    "\n",
    "\n",
    "prob.addConstraint((xp.Sum(y[int(g),t] for g in center_grid) <= SP) for t in years)  \n"
   ]
  },
  {
   "cell_type": "code",
   "execution_count": 10,
   "id": "89b2c52e",
   "metadata": {},
   "outputs": [],
   "source": [
    "# constrain 3\n",
    "# multi chargers' types\n",
    "for i in types:\n",
    "    for t in years2:\n",
    "        if t>0:\n",
    "            prob.addConstraint(L[i]*xp.Sum(x[i1,g,t1] for i1 in types for g in grids for t1 in years2 if t1<=t) <= \n",
    "                          xp.Sum(x[i,g,t1] for g in grids for t1 in years2 if t1 <=t))\n",
    "            prob.addConstraint(U[i]*xp.Sum(x[i1,g,t1] for i1 in types for g in grids for t1 in years2 if t1<=t) >= \n",
    "                          xp.Sum(x[i,g,t1] for g in grids for t1 in years2 if t1<=t))\n"
   ]
  },
  {
   "cell_type": "code",
   "execution_count": 11,
   "id": "4ff834da",
   "metadata": {},
   "outputs": [],
   "source": [
    "# constrain 4\n",
    "# the proportion of total demand at least should be satisfied(TS)\n",
    "\n",
    "TotalDemand = np.array([np.sum(d[:][0]),np.sum(d[:][1]),np.sum(d[:][2]),np.sum(d[:][3])])\n",
    "prob.addConstraint(2*xp.Sum(Pi1[i]*xp.Sum(x[i,g,t1] for g in grids) \n",
    "                          for i in types for t1 in years2 if t1<=t)>=TS*TotalDemand[t-1] for t in years2 if t>=1)\n"
   ]
  },
  {
   "cell_type": "code",
   "execution_count": 12,
   "id": "d1fd70a8",
   "metadata": {},
   "outputs": [],
   "source": [
    "# constraint 5\n",
    "# the proportion of 1 grid's demand satisfied by itselves and neighbors\n",
    "neighbors = demand['NEIGHBORS']\n",
    "for g in grids:\n",
    "    neighbor = np.array(neighbors[g].strip('[]').split(','),dtype = 'int')\n",
    "    neighbor = np.insert(neighbor,0,[int(demand['Ref'][g])])\n",
    "    prob.addConstraint(xp.Sum(Pi1[i]*xp.Sum(x[i,n-1,t1] for n in neighbor) for i in types for t1 in years2 if t1<=t)\n",
    "                      >= MS*d[t-1][g] for t in years2 if t >=1)\n"
   ]
  },
  {
   "cell_type": "code",
   "execution_count": 13,
   "id": "139a3b52",
   "metadata": {},
   "outputs": [],
   "source": [
    "# constraint 6\n",
    "# x = x1 + x2\n",
    "prob.addConstraint(x[i,g,t+1] == x1[i,g,t] + x2[i,g,t] for i in types for g in grids for t in years)"
   ]
  },
  {
   "cell_type": "code",
   "execution_count": 14,
   "id": "a3c9d02e",
   "metadata": {},
   "outputs": [],
   "source": [
    "# constraint 7\n",
    "# relation between x and y \n",
    "for g in grids:\n",
    "    prob.addConstraint(y[g,0] == xp.Sum((x[i,g,0]+x[i,g,1]) for i in types))\n",
    "    prob.addConstraint(y[g,1] == xp.Sum((x[i,g,0]+x[i,g,1] + x[i,g,2]) for i in types))\n",
    "    prob.addConstraint(y[g,2] == xp.Sum((x[i,g,0]+x[i,g,1] + x[i,g,2] + x[i,g,3]) for i in types))\n",
    "    prob.addConstraint(y[g,3] == xp.Sum((x[i,g,0]+x[i,g,1] + x[i,g,2] + x[i,g,3] + x[i,g,4]) for i in types))\n"
   ]
  },
  {
   "cell_type": "code",
   "execution_count": 15,
   "id": "25ec158c",
   "metadata": {},
   "outputs": [],
   "source": [
    "# constraint 8\n",
    "# calculate reduced cost\n",
    "M = 1000\n",
    "# M = A*B[0]\n",
    "        \n",
    "prob.addConstraint((1-z[g,t]) <= y[g,t] for g in grids for t in years)\n",
    "prob.addConstraint(y[g,t] <= (1-z[g,t])*M for g in grids for t in years)\n",
    "prob.addConstraint(x1[i,g,t] <= M*z[g,t] for i in types for g in grids for t in years)\n",
    "prob.addConstraint(x2[i,g,t] <= M*(1-z[g,t]) for i in types for g in grids for t in years)\n"
   ]
  },
  {
   "cell_type": "code",
   "execution_count": 16,
   "id": "8eb740f1",
   "metadata": {},
   "outputs": [],
   "source": [
    "# constraint 9\n",
    "# binary variables' definition z \\in {0,1}\n",
    "# written in prebious module"
   ]
  },
  {
   "cell_type": "code",
   "execution_count": 17,
   "id": "b7484534",
   "metadata": {},
   "outputs": [],
   "source": [
    "# constraint 10\n",
    "# >= 0\n",
    "prob.addConstraint(x1[i,g,t] >= 0 for i in types for g in grids for t in years)\n",
    "prob.addConstraint(x2[i,g,t] >= 0 for i in types for g in grids for t in years)\n",
    "prob.addConstraint(y[g,t] >= 0 for g in grids for t in years)"
   ]
  },
  {
   "cell_type": "code",
   "execution_count": 18,
   "id": "3465e497",
   "metadata": {},
   "outputs": [],
   "source": [
    "# constraint 11\n",
    "# chargers have to be produced in potential locations\n",
    "for g in grids:\n",
    "    prob.addConstraint(x[i,g,t+1] <= Pg[g]*A for i in types for t in years)\n"
   ]
  },
  {
   "cell_type": "markdown",
   "id": "a1d794fb",
   "metadata": {},
   "source": [
    "## Solving Problem"
   ]
  },
  {
   "cell_type": "code",
   "execution_count": 19,
   "id": "54366450",
   "metadata": {},
   "outputs": [],
   "source": [
    "# Objective function\n",
    "prob.setObjective(xp.Sum(c[i]*x1[i,g,t] for i in types for g in grids for t in years) \n",
    "                  + xp.Sum(r[i] * x2[i,g,t] for i in types for g in grids for t in years),\n",
    "                 sense = xp.minimize)"
   ]
  },
  {
   "cell_type": "code",
   "execution_count": 20,
   "id": "2edc9809",
   "metadata": {},
   "outputs": [],
   "source": [
    "prob.write(\"problem\",\"lp\")"
   ]
  },
  {
   "cell_type": "code",
   "execution_count": 21,
   "id": "bdb95866",
   "metadata": {},
   "outputs": [
    {
     "name": "stdout",
     "output_type": "stream",
     "text": [
      "FICO Xpress v8.13.7, Hyper, solve started 14:45:14, Nov 28, 2022\n",
      "Heap usage: 25MB (peak 25MB, 9797KB system)\n",
      "Minimizing MILP charging using up to 8 threads, with these control settings:\n",
      "OUTPUTLOG = 1\n",
      "Original problem has:\n",
      "     42998 rows        20398 cols       364286 elements     20398 globals\n",
      "Presolved problem has:\n",
      "      1665 rows         1379 cols        16235 elements      1379 globals\n",
      "LP relaxation tightened\n",
      "Presolve finished in 0 seconds\n",
      "Heap usage: 23MB (peak 56MB, 9797KB system)\n",
      "\n",
      "Coefficient range                    original                 solved        \n",
      "  Coefficients   [min,max] : [ 3.00e-01,  6.00e+04] / [ 1.95e-03,  1.99e+00]\n",
      "  RHS and bounds [min,max] : [ 1.00e+00,  9.40e+05] / [ 1.00e+00,  5.10e+02]\n",
      "  Objective      [min,max] : [ 8.00e-01,  1.00e+00] / [ 8.00e-01,  1.00e+00]\n",
      "Autoscaling applied standard scaling\n",
      "\n",
      "Symmetric problem: generators: 16, support set: 384\n",
      " Number of orbits: 128, largest orbit: 7\n",
      " Row orbits: 160, row support: 480\n",
      "Will try to keep branch and bound tree memory usage below 15.1GB\n",
      " *** Solution found:    57.600000   Time:   0    Heuristic: e ***\n",
      "Starting concurrent solve with dual (1 thread), primal (1 thread) and barrier (6 threads)\n",
      "\n",
      "                           Concurrent-Solve,   0s\n",
      "            Dual                      Primal                     Barrier      \n",
      "    objective   sum inf                                                       \n",
      " P  31.600000   .0000000 |                          |                         \n",
      "------- optimal -------- | ----- interrupted ------ | ----- interrupted ------\n",
      "Concurrent statistics:\n",
      "      Dual: 333 simplex iterations, 0.01s\n",
      "    Primal: 494 simplex iterations, 0.02s\n",
      "   Barrier: 1 barrier and 0 simplex iterations, 0.02s\n",
      "            Barrier used 6 threads 4 cores, L1\\L2 cache: 32K\\6144K\n",
      "            Barrier used AVX support\n",
      "Optimal solution found\n",
      " \n",
      "   Its         Obj Value      S   Ninf  Nneg        Sum Inf  Time\n",
      "   333         31.600000      P      0     0        .000000     0\n",
      "Dual solved problem\n",
      "  333 simplex iterations in 0.03 seconds at time 0\n",
      "\n",
      "Final objective                       : 3.160000000000005e+01\n",
      "  Max primal violation      (abs/rel) :       0.0 /       0.0\n",
      "  Max dual violation        (abs/rel) : 2.220e-16 / 1.230e-16\n",
      "  Max complementarity viol. (abs/rel) :       0.0 /       0.0\n",
      "\n",
      "Starting root cutting & heuristics\n",
      " \n",
      " Its Type    BestSoln    BestBound   Sols    Add    Del     Gap     GInf   Time\n",
      "a           32.800000    31.600000      2                  3.66%       0      0\n",
      " *** Search completed ***\n",
      "Uncrunching matrix\n",
      "Final MIP objective                   : 3.280000000000001e+01\n",
      "Final MIP bound                       : 3.280000000000000e+01\n",
      "  Solution time / primaldual integral :         0s/ 95.447676%\n",
      "  Number of solutions found / nodes   :         2 /         1\n",
      "  Max primal violation      (abs/rel) :       0.0 /       0.0\n",
      "  Max integer violation     (abs    ) :       0.0\n"
     ]
    }
   ],
   "source": [
    "prob.solve()"
   ]
  },
  {
   "cell_type": "markdown",
   "id": "68fac1e1",
   "metadata": {},
   "source": [
    "## Result"
   ]
  },
  {
   "cell_type": "code",
   "execution_count": 38,
   "id": "51051e51",
   "metadata": {},
   "outputs": [
    {
     "name": "stdout",
     "output_type": "stream",
     "text": [
      "the objective value is:  32.80000000000001\n"
     ]
    }
   ],
   "source": [
    "print(\"the objective value is: \",prob.getObjVal())"
   ]
  },
  {
   "cell_type": "code",
   "execution_count": 23,
   "id": "a0d64b98",
   "metadata": {},
   "outputs": [],
   "source": [
    "X = prob.getSolution(x)\n",
    "Type1 = X[0]\n",
    "Type2 = X[1]\n",
    "Type3 = X[2]"
   ]
  },
  {
   "cell_type": "code",
   "execution_count": 77,
   "id": "351558a4",
   "metadata": {},
   "outputs": [
    {
     "name": "stdout",
     "output_type": "stream",
     "text": [
      "Slow charger :\n",
      "set charger in grid  76  in year  0\n",
      "set charger in grid  91  in year  0\n",
      "set charger in grid  117  in year  0\n",
      "set charger in grid  129  in year  0\n",
      "set charger in grid  146  in year  0\n",
      "set charger in grid  147  in year  0\n",
      "set charger in grid  150  in year  0\n",
      "set charger in grid  159  in year  0\n",
      "set charger in grid  160  in year  0\n",
      "set charger in grid  163  in year  0\n",
      "set charger in grid  173  in year  0\n",
      "set charger in grid  189  in year  0\n",
      "set charger in grid  190  in year  0\n",
      "set charger in grid  199  in year  0\n",
      "set charger in grid  200  in year  0\n",
      "set charger in grid  202  in year  0\n",
      "set charger in grid  205  in year  0\n",
      "set charger in grid  214  in year  0\n",
      "set charger in grid  228  in year  0\n",
      "set charger in grid  259  in year  0\n",
      "set charger in grid  263  in year  0\n",
      "set charger in grid  274  in year  0\n",
      "set charger in grid  288  in year  0\n",
      "set charger in grid  300  in year  0\n",
      "set charger in grid  301  in year  0\n",
      "set charger in grid  304  in year  0\n",
      "set charger in grid  314  in year  0\n"
     ]
    }
   ],
   "source": [
    "print(\"Slow charger :\")\n",
    "type1 = np.nonzero(Type1)\n",
    "for i in range(len(type1[0])):\n",
    "    print(\"set charger in grid \",type1[0][i],' in year ',type1[1][i])\n",
    "print('if year equal to 0, the charger has been set previously.')"
   ]
  },
  {
   "cell_type": "code",
   "execution_count": 79,
   "id": "4c2c00c8",
   "metadata": {},
   "outputs": [
    {
     "name": "stdout",
     "output_type": "stream",
     "text": [
      "Fast charger :\n",
      "set charger in grid  59  in year  0\n",
      "set charger in grid  76  in year  0\n",
      "set charger in grid  89  in year  1\n",
      "set charger in grid  90  in year  1\n",
      "set charger in grid  100  in year  1\n",
      "set charger in grid  101  in year  1\n",
      "set charger in grid  104  in year  1\n",
      "set charger in grid  106  in year  1\n",
      "set charger in grid  108  in year  1\n",
      "set charger in grid  115  in year  1\n",
      "set charger in grid  143  in year  1\n",
      "set charger in grid  144  in year  0\n",
      "set charger in grid  145  in year  1\n",
      "set charger in grid  161  in year  1\n",
      "set charger in grid  175  in year  1\n",
      "set charger in grid  176  in year  1\n",
      "set charger in grid  185  in year  0\n",
      "set charger in grid  199  in year  0\n",
      "set charger in grid  200  in year  0\n",
      "set charger in grid  214  in year  0\n",
      "set charger in grid  216  in year  0\n",
      "set charger in grid  229  in year  1\n",
      "set charger in grid  241  in year  1\n",
      "set charger in grid  289  in year  1\n",
      "set charger in grid  345  in year  0\n",
      "set charger in grid  369  in year  0\n",
      "if year equal to 0, the charger has been set previously.\n"
     ]
    }
   ],
   "source": [
    "print(\"Fast charger :\")\n",
    "type2 = np.nonzero(Type2)\n",
    "for i in range(len(type2[0])):\n",
    "    print(\"set charger in grid \",type2[0][i],' in year ',type2[1][i])\n",
    "print('if year equal to 0, the charger has been set previously.')"
   ]
  },
  {
   "cell_type": "code",
   "execution_count": 80,
   "id": "10a02754",
   "metadata": {},
   "outputs": [
    {
     "name": "stdout",
     "output_type": "stream",
     "text": [
      "Rapid charger :\n",
      "set charger in grid  89  in year  1\n",
      "set charger in grid  103  in year  0\n",
      "set charger in grid  118  in year  1\n",
      "set charger in grid  120  in year  1\n",
      "set charger in grid  134  in year  0\n",
      "set charger in grid  142  in year  1\n",
      "set charger in grid  183  in year  1\n",
      "set charger in grid  184  in year  1\n",
      "set charger in grid  186  in year  0\n",
      "set charger in grid  187  in year  1\n",
      "set charger in grid  188  in year  1\n",
      "set charger in grid  190  in year  0\n",
      "set charger in grid  197  in year  1\n",
      "set charger in grid  199  in year  0\n",
      "set charger in grid  216  in year  0\n",
      "set charger in grid  245  in year  1\n",
      "set charger in grid  246  in year  1\n",
      "set charger in grid  263  in year  0\n",
      "set charger in grid  271  in year  1\n",
      "set charger in grid  285  in year  1\n",
      "set charger in grid  287  in year  1\n",
      "set charger in grid  290  in year  1\n",
      "set charger in grid  298  in year  1\n",
      "set charger in grid  341  in year  1\n",
      "set charger in grid  342  in year  1\n",
      "set charger in grid  354  in year  1\n",
      "set charger in grid  355  in year  1\n",
      "set charger in grid  368  in year  1\n",
      "set charger in grid  369  in year  0\n",
      "set charger in grid  381  in year  1\n",
      "set charger in grid  411  in year  1\n",
      "if year equal to 0, the charger has been set previously.\n"
     ]
    }
   ],
   "source": [
    "print(\"Rapid charger :\")\n",
    "type3 = np.nonzero(Type3)\n",
    "for i in range(len(type3[0])):\n",
    "    print(\"set charger in grid \",type3[0][i],' in year ',type3[1][i])\n",
    "print('if year equal to 0, the charger has been set previously.')"
   ]
  }
 ],
 "metadata": {
  "kernelspec": {
   "display_name": "Python 3 (ipykernel)",
   "language": "python",
   "name": "python3"
  },
  "language_info": {
   "codemirror_mode": {
    "name": "ipython",
    "version": 3
   },
   "file_extension": ".py",
   "mimetype": "text/x-python",
   "name": "python",
   "nbconvert_exporter": "python",
   "pygments_lexer": "ipython3",
   "version": "3.9.13"
  },
  "vscode": {
   "interpreter": {
    "hash": "354fb722266689457ee49b084c2d6d7f431a22ef77b8e76260e58ffc2853e1e8"
   }
  }
 },
 "nbformat": 4,
 "nbformat_minor": 5
}
